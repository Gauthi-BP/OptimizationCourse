{
 "cells": [
  {
   "cell_type": "markdown",
   "metadata": {
    "nteract": {
     "transient": {
      "deleting": false
     }
    }
   },
   "source": [
    "Worksheet 1 Introduction to linear algebra\n",
    "by Prof J.Morlier February 2020"
   ]
  },
  {
   "cell_type": "markdown",
   "metadata": {
    "nteract": {
     "transient": {
      "deleting": false
     }
    }
   },
   "source": [
    "#import Base.print_matrix\n",
    "#import Pkg; Pkg.add(\"SymPy\")"
   ]
  },
  {
   "cell_type": "code",
   "execution_count": 157,
   "metadata": {
    "collapsed": false,
    "execution": {
     "iopub.execute_input": "2020-03-20T16:27:32.676Z",
     "iopub.status.busy": "2020-03-20T16:27:32.671Z",
     "iopub.status.idle": "2020-03-20T16:27:32.685Z"
    },
    "jupyter": {
     "outputs_hidden": false,
     "source_hidden": false
    },
    "nteract": {
     "transient": {
      "deleting": false
     }
    }
   },
   "outputs": [],
   "source": [
    "using LinearAlgebra, SparseArrays, SuiteSparse, Random\n",
    "using SymPy\n",
    "import Base.print_matrix\n",
    "\n"
   ]
  },
  {
   "cell_type": "code",
   "execution_count": 156,
   "metadata": {},
   "outputs": [
    {
     "name": "stdout",
     "output_type": "stream",
     "text": [
      "Julia Version 1.3.1\n",
      "Commit 2d5741174c (2019-12-30 21:36 UTC)\n",
      "Platform Info:\n",
      "  OS: macOS (x86_64-apple-darwin18.6.0)\n",
      "  CPU: Intel(R) Core(TM) i5-8259U CPU @ 2.30GHz\n",
      "  WORD_SIZE: 64\n",
      "  LIBM: libopenlibm\n",
      "  LLVM: libLLVM-6.0.1 (ORCJIT, skylake)\n"
     ]
    }
   ],
   "source": [
    "versioninfo()"
   ]
  },
  {
   "cell_type": "markdown",
   "metadata": {
    "nteract": {
     "transient": {
      "deleting": false
     }
    }
   },
   "source": [
    "A 2x2 Recap"
   ]
  },
  {
   "cell_type": "code",
   "execution_count": 83,
   "metadata": {
    "collapsed": false,
    "execution": {
     "iopub.execute_input": "2020-03-20T16:27:32.696Z",
     "iopub.status.busy": "2020-03-20T16:27:32.692Z",
     "iopub.status.idle": "2020-03-20T16:27:32.706Z"
    },
    "jupyter": {
     "outputs_hidden": false,
     "source_hidden": false
    },
    "nteract": {
     "transient": {
      "deleting": false
     }
    }
   },
   "outputs": [
    {
     "data": {
      "text/plain": [
       "(a, b, c, d)"
      ]
     },
     "execution_count": 83,
     "metadata": {},
     "output_type": "execute_result"
    }
   ],
   "source": [
    "entries = @syms a b c d  real=true\n"
   ]
  },
  {
   "cell_type": "code",
   "execution_count": 84,
   "metadata": {
    "collapsed": false,
    "execution": {
     "iopub.execute_input": "2020-03-20T16:27:32.718Z",
     "iopub.status.busy": "2020-03-20T16:27:32.713Z",
     "iopub.status.idle": "2020-03-20T16:27:32.727Z"
    },
    "jupyter": {
     "outputs_hidden": false,
     "source_hidden": false
    },
    "nteract": {
     "transient": {
      "deleting": false
     }
    }
   },
   "outputs": [
    {
     "data": {
      "text/latex": [
       "\\[\\left[ \\begin{array}{rr}a&b\\\\c&d\\end{array}\\right]\\]"
      ],
      "text/plain": [
       "2×2 Array{Sym,2}:\n",
       " a  b\n",
       " c  d"
      ]
     },
     "execution_count": 84,
     "metadata": {},
     "output_type": "execute_result"
    }
   ],
   "source": [
    "M = [a b; c d]\n"
   ]
  },
  {
   "cell_type": "code",
   "execution_count": 85,
   "metadata": {
    "collapsed": false,
    "execution": {
     "iopub.execute_input": "2020-03-20T16:27:32.739Z",
     "iopub.status.busy": "2020-03-20T16:27:32.734Z",
     "iopub.status.idle": "2020-03-20T16:27:32.750Z"
    },
    "jupyter": {
     "outputs_hidden": false,
     "source_hidden": false
    },
    "nteract": {
     "transient": {
      "deleting": false
     }
    }
   },
   "outputs": [
    {
     "data": {
      "text/latex": [
       "\\begin{equation*}a d - b c\\end{equation*}"
      ],
      "text/plain": [
       "a⋅d - b⋅c"
      ]
     },
     "execution_count": 85,
     "metadata": {},
     "output_type": "execute_result"
    }
   ],
   "source": [
    "dM= det(M) "
   ]
  },
  {
   "cell_type": "markdown",
   "metadata": {
    "nteract": {
     "transient": {
      "deleting": false
     }
    }
   },
   "source": [
    "How can I invert a 3x3 matrix ?"
   ]
  },
  {
   "cell_type": "code",
   "execution_count": 86,
   "metadata": {
    "collapsed": false,
    "execution": {
     "iopub.execute_input": "2020-03-20T16:27:32.761Z",
     "iopub.status.busy": "2020-03-20T16:27:32.757Z",
     "iopub.status.idle": "2020-03-20T16:27:32.771Z"
    },
    "jupyter": {
     "outputs_hidden": false,
     "source_hidden": false
    },
    "nteract": {
     "transient": {
      "deleting": false
     }
    }
   },
   "outputs": [
    {
     "data": {
      "text/plain": [
       "(a, b, c, d, e, f, g, h, i)"
      ]
     },
     "execution_count": 86,
     "metadata": {},
     "output_type": "execute_result"
    }
   ],
   "source": [
    "entries = @syms a b c d e f g h i real=true\n"
   ]
  },
  {
   "cell_type": "code",
   "execution_count": 87,
   "metadata": {
    "collapsed": false,
    "execution": {
     "iopub.execute_input": "2020-03-20T16:27:32.780Z",
     "iopub.status.busy": "2020-03-20T16:27:32.777Z",
     "iopub.status.idle": "2020-03-20T16:27:32.789Z"
    },
    "jupyter": {
     "outputs_hidden": false,
     "source_hidden": false
    },
    "nteract": {
     "transient": {
      "deleting": false
     }
    }
   },
   "outputs": [
    {
     "data": {
      "text/latex": [
       "\\[\\left[ \\begin{array}{rrr}a&d&g\\\\b&e&h\\\\c&f&i\\end{array}\\right]\\]"
      ],
      "text/plain": [
       "3×3 Array{Sym,2}:\n",
       " a  d  g\n",
       " b  e  h\n",
       " c  f  i"
      ]
     },
     "execution_count": 87,
     "metadata": {},
     "output_type": "execute_result"
    }
   ],
   "source": [
    "A = reshape([entries...],(3,3))\n"
   ]
  },
  {
   "cell_type": "code",
   "execution_count": 88,
   "metadata": {
    "collapsed": false,
    "execution": {
     "iopub.execute_input": "2020-03-20T16:27:32.800Z",
     "iopub.status.busy": "2020-03-20T16:27:32.795Z",
     "iopub.status.idle": "2020-03-20T16:27:32.841Z"
    },
    "jupyter": {
     "outputs_hidden": false,
     "source_hidden": false
    },
    "nteract": {
     "transient": {
      "deleting": false
     }
    }
   },
   "outputs": [
    {
     "data": {
      "text/latex": [
       "\\begin{equation*}a e i - a f h - b d i + b f g + c d h - c e g\\end{equation*}"
      ],
      "text/plain": [
       "a⋅e⋅i - a⋅f⋅h - b⋅d⋅i + b⋅f⋅g + c⋅d⋅h - c⋅e⋅g"
      ]
     },
     "execution_count": 88,
     "metadata": {},
     "output_type": "execute_result"
    }
   ],
   "source": [
    "\n",
    "detA = det(A) |> simplify"
   ]
  },
  {
   "cell_type": "markdown",
   "metadata": {
    "execution": {
     "iopub.execute_input": "2020-03-20T16:27:32.850Z",
     "iopub.status.busy": "2020-03-20T16:27:32.847Z",
     "iopub.status.idle": "2020-03-20T16:27:32.856Z"
    },
    "jupyter": {
     "outputs_hidden": false,
     "source_hidden": false
    },
    "nteract": {
     "transient": {
      "deleting": false
     }
    }
   },
   "source": [
    "on the SVD of matrix A of size 2 x 3"
   ]
  },
  {
   "cell_type": "code",
   "execution_count": 89,
   "metadata": {
    "collapsed": false,
    "execution": {
     "iopub.execute_input": "2020-03-20T16:27:32.850Z",
     "iopub.status.busy": "2020-03-20T16:27:32.847Z",
     "iopub.status.idle": "2020-03-20T16:27:32.856Z"
    },
    "jupyter": {
     "outputs_hidden": false,
     "source_hidden": false
    },
    "nteract": {
     "transient": {
      "deleting": false
     }
    }
   },
   "outputs": [
    {
     "name": "stdout",
     "output_type": "stream",
     "text": [
      "[4 11 14; 8 7 -2]"
     ]
    }
   ],
   "source": [
    "A=[4 11 14; 8 7 -2]; show(A)"
   ]
  },
  {
   "cell_type": "markdown",
   "metadata": {
    "nteract": {
     "transient": {
      "deleting": false
     }
    }
   },
   "source": [
    "Construct $B=A^TA$"
   ]
  },
  {
   "cell_type": "code",
   "execution_count": 90,
   "metadata": {
    "collapsed": false,
    "execution": {
     "iopub.execute_input": "2020-03-20T16:27:32.864Z",
     "iopub.status.busy": "2020-03-20T16:27:32.860Z",
     "iopub.status.idle": "2020-03-20T16:27:32.871Z"
    },
    "jupyter": {
     "outputs_hidden": false,
     "source_hidden": false
    },
    "nteract": {
     "transient": {
      "deleting": false
     }
    }
   },
   "outputs": [
    {
     "name": "stdout",
     "output_type": "stream",
     "text": [
      "[80 100 40; 100 170 140; 40 140 200]"
     ]
    }
   ],
   "source": [
    "B=transpose(A)*A; show(B)"
   ]
  },
  {
   "cell_type": "markdown",
   "metadata": {
    "nteract": {
     "transient": {
      "deleting": false
     }
    }
   },
   "source": [
    "#Check;\n",
    "# B=[80 100 40; 100 170 140; 40 140 200];"
   ]
  },
  {
   "cell_type": "code",
   "execution_count": 91,
   "metadata": {
    "collapsed": false,
    "execution": {
     "iopub.execute_input": "2020-03-20T16:27:32.881Z",
     "iopub.status.busy": "2020-03-20T16:27:32.877Z",
     "iopub.status.idle": "2020-03-20T16:27:32.890Z"
    },
    "jupyter": {
     "outputs_hidden": false,
     "source_hidden": false
    },
    "nteract": {
     "transient": {
      "deleting": false
     }
    }
   },
   "outputs": [
    {
     "data": {
      "text/latex": [
       "\\begin{equation*}\\lambda\\end{equation*}"
      ],
      "text/plain": [
       "λ"
      ]
     },
     "execution_count": 91,
     "metadata": {},
     "output_type": "execute_result"
    }
   ],
   "source": [
    "lambda = symbols(\"lambda\", real=true)\n"
   ]
  },
  {
   "cell_type": "code",
   "execution_count": 92,
   "metadata": {
    "collapsed": false,
    "execution": {
     "iopub.execute_input": "2020-03-20T16:27:32.896Z",
     "iopub.status.busy": "2020-03-20T16:27:32.894Z",
     "iopub.status.idle": "2020-03-20T16:27:32.904Z"
    },
    "jupyter": {
     "outputs_hidden": false,
     "source_hidden": false
    },
    "nteract": {
     "transient": {
      "deleting": false
     }
    }
   },
   "outputs": [
    {
     "data": {
      "text/latex": [
       "\\[\\left[ \\begin{array}{rrr}80 - \\lambda&100&40\\\\100&170 - \\lambda&140\\\\40&140&200 - \\lambda\\end{array}\\right]\\]"
      ],
      "text/plain": [
       "3×3 Array{Sym,2}:\n",
       " 80 - lambda           100            40\n",
       "         100  170 - lambda           140\n",
       "          40           140  200 - lambda"
      ]
     },
     "execution_count": 92,
     "metadata": {},
     "output_type": "execute_result"
    }
   ],
   "source": [
    "C=B-lambda*[1 0 0; 0 1 0; 0 0 1]"
   ]
  },
  {
   "cell_type": "code",
   "execution_count": 93,
   "metadata": {
    "collapsed": false,
    "execution": {
     "iopub.execute_input": "2020-03-20T16:27:32.911Z",
     "iopub.status.busy": "2020-03-20T16:27:32.908Z",
     "iopub.status.idle": "2020-03-20T16:27:32.916Z"
    },
    "jupyter": {
     "outputs_hidden": false,
     "source_hidden": false
    },
    "nteract": {
     "transient": {
      "deleting": false
     }
    }
   },
   "outputs": [
    {
     "data": {
      "text/latex": [
       "\\begin{equation*}31200 \\lambda + \\left(80 - \\lambda\\right) \\left(170 - \\lambda\\right) \\left(200 - \\lambda\\right) - 2720000\\end{equation*}"
      ],
      "text/plain": [
       "31200⋅λ + (80 - λ)⋅(170 - λ)⋅(200 - λ) - 2720000"
      ]
     },
     "execution_count": 93,
     "metadata": {},
     "output_type": "execute_result"
    }
   ],
   "source": [
    "dC=det(C)"
   ]
  },
  {
   "cell_type": "code",
   "execution_count": 94,
   "metadata": {
    "collapsed": false,
    "execution": {
     "iopub.execute_input": "2020-03-20T16:27:32.911Z",
     "iopub.status.busy": "2020-03-20T16:27:32.908Z",
     "iopub.status.idle": "2020-03-20T16:27:32.916Z"
    },
    "jupyter": {
     "outputs_hidden": false,
     "source_hidden": false
    },
    "nteract": {
     "transient": {
      "deleting": false
     }
    }
   },
   "outputs": [
    {
     "data": {
      "text/latex": [
       "\\begin{equation*}\\lambda \\left(- \\lambda^{2} + 450 \\lambda - 32400\\right)\\end{equation*}"
      ],
      "text/plain": [
       "  ⎛   2                ⎞\n",
       "λ⋅⎝- λ  + 450⋅λ - 32400⎠"
      ]
     },
     "execution_count": 94,
     "metadata": {},
     "output_type": "execute_result"
    }
   ],
   "source": [
    "simplify(dC)"
   ]
  },
  {
   "cell_type": "code",
   "execution_count": 95,
   "metadata": {
    "collapsed": false,
    "execution": {
     "iopub.execute_input": "2020-03-20T16:27:32.911Z",
     "iopub.status.busy": "2020-03-20T16:27:32.908Z",
     "iopub.status.idle": "2020-03-20T16:27:32.916Z"
    },
    "jupyter": {
     "outputs_hidden": false,
     "source_hidden": false
    },
    "nteract": {
     "transient": {
      "deleting": false
     }
    }
   },
   "outputs": [
    {
     "data": {
      "text/latex": [
       "\\begin{equation*}- \\lambda^{3} + 450 \\lambda^{2} - 32400 \\lambda\\end{equation*}"
      ],
      "text/plain": [
       "   3        2          \n",
       "- λ  + 450⋅λ  - 32400⋅λ"
      ]
     },
     "execution_count": 95,
     "metadata": {},
     "output_type": "execute_result"
    }
   ],
   "source": [
    "eqn = -lambda^3 + 450*lambda^2 -32400*lambda"
   ]
  },
  {
   "cell_type": "code",
   "execution_count": 96,
   "metadata": {
    "collapsed": false,
    "execution": {
     "iopub.execute_input": "2020-03-20T16:27:32.911Z",
     "iopub.status.busy": "2020-03-20T16:27:32.908Z",
     "iopub.status.idle": "2020-03-20T16:27:32.916Z"
    },
    "jupyter": {
     "outputs_hidden": false,
     "source_hidden": false
    },
    "nteract": {
     "transient": {
      "deleting": false
     }
    }
   },
   "outputs": [
    {
     "data": {
      "text/latex": [
       "\\[ \\left[ \\begin{array}{r}0\\\\90\\\\360\\end{array} \\right] \\]"
      ],
      "text/plain": [
       "3-element Array{Sym,1}:\n",
       "   0\n",
       "  90\n",
       " 360"
      ]
     },
     "execution_count": 96,
     "metadata": {},
     "output_type": "execute_result"
    }
   ],
   "source": [
    "real_roots(eqn)"
   ]
  },
  {
   "cell_type": "code",
   "execution_count": 97,
   "metadata": {
    "collapsed": false,
    "execution": {
     "iopub.execute_input": "2020-03-20T16:27:32.911Z",
     "iopub.status.busy": "2020-03-20T16:27:32.908Z",
     "iopub.status.idle": "2020-03-20T16:27:32.916Z"
    },
    "jupyter": {
     "outputs_hidden": false,
     "source_hidden": false
    },
    "nteract": {
     "transient": {
      "deleting": false
     }
    }
   },
   "outputs": [
    {
     "data": {
      "text/latex": [
       "\\[ \\left[ \\begin{array}{r}0\\\\90\\\\360\\end{array} \\right] \\]"
      ],
      "text/plain": [
       "3-element Array{Sym,1}:\n",
       "   0\n",
       "  90\n",
       " 360"
      ]
     },
     "execution_count": 97,
     "metadata": {},
     "output_type": "execute_result"
    }
   ],
   "source": [
    "solve(eqn)"
   ]
  },
  {
   "cell_type": "code",
   "execution_count": 98,
   "metadata": {
    "collapsed": false,
    "execution": {
     "iopub.execute_input": "2020-03-20T16:27:32.911Z",
     "iopub.status.busy": "2020-03-20T16:27:32.908Z",
     "iopub.status.idle": "2020-03-20T16:27:32.916Z"
    },
    "jupyter": {
     "outputs_hidden": false,
     "source_hidden": false
    },
    "nteract": {
     "transient": {
      "deleting": false
     }
    }
   },
   "outputs": [
    {
     "data": {
      "text/latex": [
       "\\begin{equation*}- \\lambda \\left(\\lambda - 360\\right) \\left(\\lambda - 90\\right)\\end{equation*}"
      ],
      "text/plain": [
       "-λ⋅(λ - 360)⋅(λ - 90)"
      ]
     },
     "execution_count": 98,
     "metadata": {},
     "output_type": "execute_result"
    }
   ],
   "source": [
    "factor(-lambda^3 + 450*lambda^2 -32400*lambda,lambda)"
   ]
  },
  {
   "cell_type": "code",
   "execution_count": 99,
   "metadata": {},
   "outputs": [],
   "source": [
    "#recap\n",
    "#A=[4 11 14; 8 7 -2];"
   ]
  },
  {
   "cell_type": "code",
   "execution_count": 100,
   "metadata": {},
   "outputs": [],
   "source": [
    "A=[4 11 14; 8 7 -2];"
   ]
  },
  {
   "cell_type": "markdown",
   "metadata": {},
   "source": [
    "https://docs.julialang.org/en/v1/stdlib/LinearAlgebra/#LinearAlgebra.svd"
   ]
  },
  {
   "cell_type": "code",
   "execution_count": 101,
   "metadata": {
    "collapsed": false,
    "execution": {
     "iopub.execute_input": "2020-03-20T16:27:32.911Z",
     "iopub.status.busy": "2020-03-20T16:27:32.908Z",
     "iopub.status.idle": "2020-03-20T16:27:32.916Z"
    },
    "jupyter": {
     "outputs_hidden": false,
     "source_hidden": false
    },
    "nteract": {
     "transient": {
      "deleting": false
     }
    }
   },
   "outputs": [
    {
     "data": {
      "text/plain": [
       "SVD{Float64,Float64,Array{Float64,2}}\n",
       "U factor:\n",
       "2×2 Array{Float64,2}:\n",
       " -0.948683  -0.316228\n",
       " -0.316228   0.948683\n",
       "singular values:\n",
       "2-element Array{Float64,1}:\n",
       " 18.973665961010283\n",
       "  9.486832980505136\n",
       "Vt factor:\n",
       "2×3 Array{Float64,2}:\n",
       " -0.333333  -0.666667  -0.666667\n",
       "  0.666667   0.333333  -0.666667"
      ]
     },
     "execution_count": 101,
     "metadata": {},
     "output_type": "execute_result"
    }
   ],
   "source": [
    "U,S,V = svd(A)"
   ]
  },
  {
   "cell_type": "code",
   "execution_count": 131,
   "metadata": {
    "execution": {
     "iopub.execute_input": "2020-03-20T16:27:32.924Z",
     "iopub.status.busy": "2020-03-20T16:27:32.921Z",
     "iopub.status.idle": "2020-03-20T16:27:32.930Z"
    },
    "nteract": {
     "transient": {
      "deleting": false
     }
    }
   },
   "outputs": [
    {
     "data": {
      "text/plain": [
       "fullsvd (generic function with 1 method)"
      ]
     },
     "execution_count": 131,
     "metadata": {},
     "output_type": "execute_result"
    }
   ],
   "source": [
    "function fullsvd(A) \n",
    "    U,s,V = svd(A, full = true)  # compute svd\n",
    "    Σ = zeros(size(A))           # container for Σ  \n",
    "    for i=1:length(s)\n",
    "       Σ[i,i] = s[i]            # place singular values in Σ\n",
    "    end                      # a practical svd would never store all these zeros\n",
    "    display(U);display(Σ);display(V) # display the answer\n",
    "    return(U,Σ,V)                # return the answer\n",
    "end\n",
    "\n",
    "\n",
    "\n"
   ]
  },
  {
   "cell_type": "markdown",
   "metadata": {},
   "source": [
    "https://github.com/mitmath/1806/blob/master/summaries.md"
   ]
  },
  {
   "cell_type": "code",
   "execution_count": 132,
   "metadata": {},
   "outputs": [
    {
     "data": {
      "text/plain": [
       "rankrsvd (generic function with 1 method)"
      ]
     },
     "execution_count": 132,
     "metadata": {},
     "output_type": "execute_result"
    }
   ],
   "source": [
    "function rankrsvd(A) \n",
    "    U,s,V = svd(A, full = true)  # compute svd\n",
    "    r = sum(s.>1e-8)             # rank = how many positive?\n",
    "    U₁ = U[:,1:r]\n",
    "    Σᵣ = Diagonal(s[1:r])        # Diagonal matrix of singular values\n",
    "    V₁ = V[:,1:r]\n",
    "    display(U₁);display(Σᵣ);display(V₁) # display the answer\n",
    "    return(U₁,Σᵣ,V₁)                # return the answer\n",
    "end"
   ]
  },
  {
   "cell_type": "code",
   "execution_count": 135,
   "metadata": {},
   "outputs": [
    {
     "data": {
      "text/plain": [
       "2×2 Array{Float64,2}:\n",
       " -0.948683  -0.316228\n",
       " -0.316228   0.948683"
      ]
     },
     "metadata": {},
     "output_type": "display_data"
    },
    {
     "data": {
      "text/plain": [
       "2×3 Array{Float64,2}:\n",
       " 18.9737  0.0      0.0\n",
       "  0.0     9.48683  0.0"
      ]
     },
     "metadata": {},
     "output_type": "display_data"
    },
    {
     "data": {
      "text/plain": [
       "3×3 Adjoint{Float64,Array{Float64,2}}:\n",
       " -0.333333   0.666667  -0.666667\n",
       " -0.666667   0.333333   0.666667\n",
       " -0.666667  -0.666667  -0.333333"
      ]
     },
     "metadata": {},
     "output_type": "display_data"
    },
    {
     "data": {
      "text/plain": [
       "([-0.9486832980505135 -0.3162277660168378; -0.3162277660168378 0.9486832980505138], [18.973665961010283 0.0 0.0; 0.0 9.486832980505136 0.0], [-0.3333333333333332 0.6666666666666665 -0.6666666666666666; -0.6666666666666665 0.3333333333333334 0.6666666666666669; -0.6666666666666665 -0.6666666666666671 -0.3333333333333332])"
      ]
     },
     "execution_count": 135,
     "metadata": {},
     "output_type": "execute_result"
    }
   ],
   "source": [
    "U,S,V = fullsvd(A) #matlab notation"
   ]
  },
  {
   "cell_type": "code",
   "execution_count": 136,
   "metadata": {},
   "outputs": [
    {
     "name": "stdout",
     "output_type": "stream",
     "text": [
      " -0.9486832980505135  -0.3162277660168378\n",
      " -0.3162277660168378   0.9486832980505138"
     ]
    }
   ],
   "source": [
    "print_matrix(stdout, U);"
   ]
  },
  {
   "cell_type": "code",
   "execution_count": 137,
   "metadata": {
    "collapsed": false,
    "execution": {
     "iopub.execute_input": "2020-03-20T16:27:32.938Z",
     "iopub.status.busy": "2020-03-20T16:27:32.935Z",
     "iopub.status.idle": "2020-03-20T16:27:32.944Z"
    },
    "jupyter": {
     "outputs_hidden": false,
     "source_hidden": false
    },
    "nteract": {
     "transient": {
      "deleting": false
     }
    }
   },
   "outputs": [
    {
     "name": "stdout",
     "output_type": "stream",
     "text": [
      " 18.973665961010283  0.0                0.0\n",
      "  0.0                9.486832980505136  0.0"
     ]
    }
   ],
   "source": [
    "print_matrix(stdout,S);\n"
   ]
  },
  {
   "cell_type": "code",
   "execution_count": 138,
   "metadata": {
    "collapsed": false,
    "execution": {
     "iopub.execute_input": "2020-03-20T16:27:32.954Z",
     "iopub.status.busy": "2020-03-20T16:27:32.950Z",
     "iopub.status.idle": "2020-03-20T16:27:32.960Z"
    },
    "jupyter": {
     "outputs_hidden": false,
     "source_hidden": false
    },
    "nteract": {
     "transient": {
      "deleting": false
     }
    }
   },
   "outputs": [
    {
     "name": "stdout",
     "output_type": "stream",
     "text": [
      " -0.3333333333333332   0.6666666666666665  -0.6666666666666666\n",
      " -0.6666666666666665   0.3333333333333334   0.6666666666666669\n",
      " -0.6666666666666665  -0.6666666666666671  -0.3333333333333332"
     ]
    }
   ],
   "source": [
    "print_matrix(stdout, V);"
   ]
  },
  {
   "cell_type": "markdown",
   "metadata": {},
   "source": [
    "Need to check that $(B-\\lambda_i I)v_i=0$"
   ]
  },
  {
   "cell_type": "code",
   "execution_count": 139,
   "metadata": {},
   "outputs": [
    {
     "data": {
      "text/plain": [
       "3-element Array{Float64,1}:\n",
       " -119.99999999999996\n",
       " -239.99999999999994\n",
       " -239.99999999999994"
      ]
     },
     "execution_count": 139,
     "metadata": {},
     "output_type": "execute_result"
    }
   ],
   "source": [
    "#check for lambda_1\n",
    " 360*V[:,1]"
   ]
  },
  {
   "cell_type": "code",
   "execution_count": 140,
   "metadata": {},
   "outputs": [
    {
     "data": {
      "text/plain": [
       "360"
      ]
     },
     "execution_count": 140,
     "metadata": {},
     "output_type": "execute_result"
    }
   ],
   "source": [
    "alpha=360"
   ]
  },
  {
   "cell_type": "code",
   "execution_count": 141,
   "metadata": {},
   "outputs": [
    {
     "data": {
      "text/plain": [
       "3-element Array{Float64,1}:\n",
       " -119.99999999999997\n",
       " -239.99999999999994\n",
       " -239.99999999999994"
      ]
     },
     "execution_count": 141,
     "metadata": {},
     "output_type": "execute_result"
    }
   ],
   "source": [
    "(B)*V[:,1]"
   ]
  },
  {
   "cell_type": "code",
   "execution_count": 142,
   "metadata": {},
   "outputs": [],
   "source": [
    "#check done"
   ]
  },
  {
   "cell_type": "markdown",
   "metadata": {},
   "source": [
    "Pseudo inverse and linear system"
   ]
  },
  {
   "cell_type": "code",
   "execution_count": 143,
   "metadata": {},
   "outputs": [
    {
     "data": {
      "text/plain": [
       "2-element Array{Int64,1}:\n",
       " 1\n",
       " 2"
      ]
     },
     "execution_count": 143,
     "metadata": {},
     "output_type": "execute_result"
    }
   ],
   "source": [
    "b=[1;2]"
   ]
  },
  {
   "cell_type": "code",
   "execution_count": 144,
   "metadata": {},
   "outputs": [
    {
     "data": {
      "text/plain": [
       "2"
      ]
     },
     "execution_count": 144,
     "metadata": {},
     "output_type": "execute_result"
    }
   ],
   "source": [
    "rang_A=rank(A)"
   ]
  },
  {
   "cell_type": "code",
   "execution_count": 145,
   "metadata": {},
   "outputs": [
    {
     "data": {
      "text/plain": [
       "3×2 Array{Float64,2}:\n",
       " -0.00555556   0.0722222\n",
       "  0.0222222    0.0444444\n",
       "  0.0555556   -0.0555556"
      ]
     },
     "execution_count": 145,
     "metadata": {},
     "output_type": "execute_result"
    }
   ],
   "source": [
    "#Non inversible == square matrix\n",
    "# 1/A\n",
    "# inv(A)\n",
    "#Least square possible using pinv\n",
    "\n",
    "pinv(A)"
   ]
  },
  {
   "cell_type": "code",
   "execution_count": 146,
   "metadata": {},
   "outputs": [
    {
     "data": {
      "text/plain": [
       "3-element Array{Float64,1}:\n",
       "  0.13888888888888884\n",
       "  0.11111111111111109\n",
       " -0.0555555555555557 "
      ]
     },
     "execution_count": 146,
     "metadata": {},
     "output_type": "execute_result"
    }
   ],
   "source": [
    "xstar=pinv(A)*b"
   ]
  },
  {
   "cell_type": "code",
   "execution_count": 147,
   "metadata": {},
   "outputs": [],
   "source": [
    "#check 1\n",
    "\n"
   ]
  },
  {
   "cell_type": "code",
   "execution_count": 148,
   "metadata": {},
   "outputs": [
    {
     "data": {
      "text/plain": [
       "3×2 Array{Float64,2}:\n",
       " -0.00555556   0.0722222\n",
       "  0.0222222    0.0444444\n",
       "  0.0555556   -0.0555556"
      ]
     },
     "execution_count": 148,
     "metadata": {},
     "output_type": "execute_result"
    }
   ],
   "source": [
    "pseudoA1=V*pinv(S)*U'"
   ]
  },
  {
   "cell_type": "code",
   "execution_count": 152,
   "metadata": {},
   "outputs": [
    {
     "data": {
      "text/plain": [
       "3-element Array{Float64,1}:\n",
       "  0.13888888888888884 \n",
       "  0.11111111111111109 \n",
       " -0.055555555555555684"
      ]
     },
     "execution_count": 152,
     "metadata": {},
     "output_type": "execute_result"
    }
   ],
   "source": [
    "\n",
    "xstar1=pseudoA1*b"
   ]
  },
  {
   "cell_type": "code",
   "execution_count": 153,
   "metadata": {},
   "outputs": [
    {
     "data": {
      "text/plain": [
       "2×2 Array{Float64,2}:\n",
       " 18.9737  0.0    \n",
       "  0.0     9.48683"
      ]
     },
     "execution_count": 153,
     "metadata": {},
     "output_type": "execute_result"
    }
   ],
   "source": [
    "St=Sn[1:2,1:2]"
   ]
  },
  {
   "cell_type": "code",
   "execution_count": 154,
   "metadata": {},
   "outputs": [
    {
     "data": {
      "text/plain": [
       "3×2 Array{Float64,2}:\n",
       " -0.00555556   0.0722222\n",
       "  0.0222222    0.0444444\n",
       "  0.0555556   -0.0555556"
      ]
     },
     "execution_count": 154,
     "metadata": {},
     "output_type": "execute_result"
    }
   ],
   "source": [
    "pseudoA2=V*[inv(St'*St)*St'; 0 0 ]*U'"
   ]
  },
  {
   "cell_type": "code",
   "execution_count": 155,
   "metadata": {},
   "outputs": [
    {
     "data": {
      "text/plain": [
       "3-element Array{Float64,1}:\n",
       "  0.13888888888888884 \n",
       "  0.11111111111111109 \n",
       " -0.055555555555555684"
      ]
     },
     "execution_count": 155,
     "metadata": {},
     "output_type": "execute_result"
    }
   ],
   "source": [
    " xstar2=pseudoA2*b"
   ]
  }
 ],
 "metadata": {
  "kernel_info": {
   "name": "julia-1.1"
  },
  "kernelspec": {
   "display_name": "Julia 1.3.1",
   "language": "julia",
   "name": "julia-1.3"
  },
  "language_info": {
   "file_extension": ".jl",
   "mimetype": "application/julia",
   "name": "julia",
   "version": "1.3.1"
  },
  "nteract": {
   "version": "0.22.0"
  }
 },
 "nbformat": 4,
 "nbformat_minor": 4
}
