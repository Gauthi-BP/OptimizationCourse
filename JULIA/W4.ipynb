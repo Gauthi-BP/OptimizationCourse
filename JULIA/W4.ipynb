{
 "cells": [
  {
   "cell_type": "markdown",
   "metadata": {},
   "source": [
    "# Worksheet 4 Unconstrained optimization \n",
    "## J.Morlier March 2020\n",
    "\n",
    "\n",
    "# On the descent direction "
   ]
  },
  {
   "cell_type": "code",
   "execution_count": 34,
   "metadata": {},
   "outputs": [],
   "source": [
    "using LinearAlgebra, SparseArrays, SuiteSparse, Random\n",
    "using SymPy\n",
    "using Plots; pyplot()\n",
    "import Base.print_matrix\n",
    "\n",
    "\n"
   ]
  },
  {
   "cell_type": "code",
   "execution_count": 35,
   "metadata": {},
   "outputs": [
    {
     "name": "stdout",
     "output_type": "stream",
     "text": [
      "Julia Version 1.3.1\n",
      "Commit 2d5741174c (2019-12-30 21:36 UTC)\n",
      "Platform Info:\n",
      "  OS: macOS (x86_64-apple-darwin18.6.0)\n",
      "  CPU: Intel(R) Core(TM) i5-8259U CPU @ 2.30GHz\n",
      "  WORD_SIZE: 64\n",
      "  LIBM: libopenlibm\n",
      "  LLVM: libLLVM-6.0.1 (ORCJIT, skylake)\n"
     ]
    }
   ],
   "source": [
    "versioninfo()"
   ]
  },
  {
   "cell_type": "code",
   "execution_count": 36,
   "metadata": {},
   "outputs": [
    {
     "data": {
      "text/plain": [
       "(x1, x2)"
      ]
     },
     "execution_count": 36,
     "metadata": {},
     "output_type": "execute_result"
    }
   ],
   "source": [
    "entries = @syms x1 x2  real=true"
   ]
  },
  {
   "cell_type": "markdown",
   "metadata": {},
   "source": [
    "Consider the function f : R2 → R given by J(x) = x1^3+x^2 +2*x2. Give some descent directions for J at the point [1,1]⊤. Is there any descent direction at the point [0, −1]⊤ ? Justify the answer."
   ]
  },
  {
   "cell_type": "code",
   "execution_count": 132,
   "metadata": {},
   "outputs": [
    {
     "data": {
      "text/latex": [
       "\\begin{equation*}x_{1}^{3} + x_{2}^{2} + 2 x_{2}\\end{equation*}"
      ],
      "text/plain": [
       "  3     2       \n",
       "x₁  + x₂  + 2⋅x₂"
      ]
     },
     "execution_count": 132,
     "metadata": {},
     "output_type": "execute_result"
    }
   ],
   "source": [
    "J=x1^3 +x2^2 +2*x2"
   ]
  },
  {
   "cell_type": "code",
   "execution_count": 133,
   "metadata": {},
   "outputs": [
    {
     "data": {
      "text/latex": [
       "\\[ \\left[ \\begin{array}{r}3 x_{1}^{2}\\\\2 x_{2} + 2\\end{array} \\right] \\]"
      ],
      "text/plain": [
       "2-element Array{Sym,1}:\n",
       "   3*x1^2\n",
       " 2*x2 + 2"
      ]
     },
     "execution_count": 133,
     "metadata": {},
     "output_type": "execute_result"
    }
   ],
   "source": [
    "dJdx1=diff(J,x1)  ;\n",
    "\n",
    "dJdx2=diff(J,x2) ;\n",
    "\n",
    "dJ=[dJdx1; dJdx2]"
   ]
  },
  {
   "cell_type": "markdown",
   "metadata": {},
   "source": [
    "substitute with Point (1,1);"
   ]
  },
  {
   "cell_type": "code",
   "execution_count": 134,
   "metadata": {},
   "outputs": [
    {
     "data": {
      "text/latex": [
       "\\[ \\left[ \\begin{array}{r}3\\\\4\\end{array} \\right] \\]"
      ],
      "text/plain": [
       "2-element Array{Sym,1}:\n",
       " 3\n",
       " 4"
      ]
     },
     "execution_count": 134,
     "metadata": {},
     "output_type": "execute_result"
    }
   ],
   "source": [
    "A=[dJdx1(1) ; dJdx2(1)]"
   ]
  },
  {
   "cell_type": "markdown",
   "metadata": {},
   "source": [
    "Create vector of possible descent directions"
   ]
  },
  {
   "cell_type": "code",
   "execution_count": 135,
   "metadata": {},
   "outputs": [
    {
     "data": {
      "text/plain": [
       "(d1, d2)"
      ]
     },
     "execution_count": 135,
     "metadata": {},
     "output_type": "execute_result"
    }
   ],
   "source": [
    "entries = @syms d1 d2  real=true"
   ]
  },
  {
   "cell_type": "code",
   "execution_count": 136,
   "metadata": {},
   "outputs": [
    {
     "data": {
      "text/latex": [
       "\\begin{equation*}3 d_{1} + 4 d_{2}\\end{equation*}"
      ],
      "text/plain": [
       "3⋅d₁ + 4⋅d₂"
      ]
     },
     "execution_count": 136,
     "metadata": {},
     "output_type": "execute_result"
    }
   ],
   "source": [
    "dir=A'*[d1; d2]"
   ]
  },
  {
   "cell_type": "code",
   "execution_count": 137,
   "metadata": {},
   "outputs": [
    {
     "data": {
      "image/png": "[encoded data removed]"
     },
     "execution_count": 137,
     "metadata": {},
     "output_type": "execute_result"
    }
   ],
   "source": [
    "x=range(-3,stop=3,length=20)\n",
    "y=range(-3,stop=3,length=20)\n",
    "f(x,y) = 3*x+4*y\n",
    "plot(x,y,f,st=:contourf,camera=(0,0))"
   ]
  },
  {
   "cell_type": "markdown",
   "metadata": {},
   "source": [
    "It's up to you to choose one possible solution\tsuch that 3d1 + 4d2 < 0\t\t\t\t\n",
    "\n",
    "substitute with (0,-1). Something wrong?"
   ]
  },
  {
   "cell_type": "code",
   "execution_count": 142,
   "metadata": {},
   "outputs": [
    {
     "data": {
      "text/latex": [
       "\\begin{equation*}3 x_{1}^{2}\\end{equation*}"
      ],
      "text/plain": [
       "    2\n",
       "3⋅x₁ "
      ]
     },
     "execution_count": 142,
     "metadata": {},
     "output_type": "execute_result"
    }
   ],
   "source": [
    "dJdx1"
   ]
  },
  {
   "cell_type": "code",
   "execution_count": 143,
   "metadata": {},
   "outputs": [
    {
     "data": {
      "text/latex": [
       "\\begin{equation*}2 x_{2} + 2\\end{equation*}"
      ],
      "text/plain": [
       "2⋅x₂ + 2"
      ]
     },
     "execution_count": 143,
     "metadata": {},
     "output_type": "execute_result"
    }
   ],
   "source": [
    "dJdx2\n"
   ]
  },
  {
   "cell_type": "code",
   "execution_count": 144,
   "metadata": {},
   "outputs": [
    {
     "data": {
      "text/latex": [
       "\\[ \\left[ \\begin{array}{r}0\\\\0\\end{array} \\right] \\]"
      ],
      "text/plain": [
       "2-element Array{Sym,1}:\n",
       " 0\n",
       " 0"
      ]
     },
     "execution_count": 144,
     "metadata": {},
     "output_type": "execute_result"
    }
   ],
   "source": [
    "A=[dJdx1(0) ; dJdx2(-1)]"
   ]
  },
  {
   "cell_type": "code",
   "execution_count": 145,
   "metadata": {},
   "outputs": [
    {
     "data": {
      "text/latex": [
       "\\begin{equation*}0\\end{equation*}"
      ],
      "text/plain": [
       "0"
      ]
     },
     "execution_count": 145,
     "metadata": {},
     "output_type": "execute_result"
    }
   ],
   "source": [
    "\n",
    "dir=A'*[d1; d2]"
   ]
  },
  {
   "cell_type": "markdown",
   "metadata": {},
   "source": [
    "thus one cannot find a descent direction at the point."
   ]
  },
  {
   "cell_type": "markdown",
   "metadata": {},
   "source": [
    "# On the optimal step-size \n"
   ]
  },
  {
   "cell_type": "markdown",
   "metadata": {},
   "source": [
    "Compute the optimal step-size at [5, 1]⊤ following the direction d = −∇f (5, 1). "
   ]
  },
  {
   "cell_type": "code",
   "execution_count": 146,
   "metadata": {},
   "outputs": [
    {
     "data": {
      "text/latex": [
       "\\begin{equation*}0.5 x_{1}^{2} + 4.5 x_{2}^{2}\\end{equation*}"
      ],
      "text/plain": [
       "      2         2\n",
       "0.5⋅x₁  + 4.5⋅x₂ "
      ]
     },
     "execution_count": 146,
     "metadata": {},
     "output_type": "execute_result"
    }
   ],
   "source": [
    "J=0.5*x1^2 + 4.5*x2^2"
   ]
  },
  {
   "cell_type": "code",
   "execution_count": 147,
   "metadata": {},
   "outputs": [
    {
     "data": {
      "text/latex": [
       "\\[ \\left[ \\begin{array}{r}1.0 x_{1}\\\\9.0 x_{2}\\end{array} \\right] \\]"
      ],
      "text/plain": [
       "2-element Array{Sym,1}:\n",
       " 1.0*x1\n",
       " 9.0*x2"
      ]
     },
     "execution_count": 147,
     "metadata": {},
     "output_type": "execute_result"
    }
   ],
   "source": [
    "dJdx1=diff(J,x1)  ;\n",
    "\n",
    "dJdx2=diff(J,x2) ;\n",
    "\n",
    "dJ=[dJdx1; dJdx2]"
   ]
  },
  {
   "cell_type": "code",
   "execution_count": 148,
   "metadata": {},
   "outputs": [
    {
     "data": {
      "text/plain": [
       "(alpha,)"
      ]
     },
     "execution_count": 148,
     "metadata": {},
     "output_type": "execute_result"
    }
   ],
   "source": [
    "entries = @syms alpha  real=true"
   ]
  },
  {
   "cell_type": "code",
   "execution_count": 149,
   "metadata": {},
   "outputs": [
    {
     "data": {
      "text/latex": [
       "\\[ \\left[ \\begin{array}{r}- 1.0 x_{1}\\\\- 9.0 x_{2}\\end{array} \\right] \\]"
      ],
      "text/plain": [
       "2-element Array{Sym,1}:\n",
       " -1.0*x1\n",
       " -9.0*x2"
      ]
     },
     "execution_count": 149,
     "metadata": {},
     "output_type": "execute_result"
    }
   ],
   "source": [
    "d=-dJ"
   ]
  },
  {
   "cell_type": "code",
   "execution_count": 150,
   "metadata": {},
   "outputs": [
    {
     "data": {
      "text/latex": [
       "\\[ \\left[ \\begin{array}{r}x_{1}\\\\x_{2}\\end{array} \\right] \\]"
      ],
      "text/plain": [
       "2-element Array{Sym,1}:\n",
       " x1\n",
       " x2"
      ]
     },
     "execution_count": 150,
     "metadata": {},
     "output_type": "execute_result"
    }
   ],
   "source": [
    "x=[x1;x2]"
   ]
  },
  {
   "cell_type": "code",
   "execution_count": 152,
   "metadata": {},
   "outputs": [
    {
     "data": {
      "text/latex": [
       "\\begin{equation*}0.5 \\left(- 1.0 \\alpha x_{1} + x_{1}\\right)^{2} + 364.5 \\left(- \\alpha x_{2} + 0.111111111111111 x_{2}\\right)^{2}\\end{equation*}"
      ],
      "text/plain": [
       "                    2                                       2\n",
       "0.5⋅(-1.0⋅α⋅x₁ + x₁)  + 364.5⋅(-α⋅x₂ + 0.111111111111111⋅x₂) "
      ]
     },
     "execution_count": 152,
     "metadata": {},
     "output_type": "execute_result"
    }
   ],
   "source": [
    "Jnew=(0.5*newx[1]^2 + 4.5*newx[2]^2)\n"
   ]
  },
  {
   "cell_type": "code",
   "execution_count": 153,
   "metadata": {},
   "outputs": [
    {
     "data": {
      "text/latex": [
       "\\begin{equation*}364.5 \\left(0.00137174211248285 \\alpha^{2} x_{1}^{2} + 1.0 \\alpha^{2} x_{2}^{2} - 0.00274348422496571 \\alpha x_{1}^{2} - 0.222222222222222 \\alpha x_{2}^{2} + 0.00137174211248285 x_{1}^{2} + 0.0123456790123457 x_{2}^{2}\\right)\\end{equation*}"
      ],
      "text/plain": [
       "      ⎛                     2   2        2   2                           2    \n",
       "364.5⋅⎝0.00137174211248285⋅α ⋅x₁  + 1.0⋅α ⋅x₂  - 0.00274348422496571⋅α⋅x₁  - 0\n",
       "\n",
       "                     2                         2                        2⎞\n",
       ".222222222222222⋅α⋅x₂  + 0.00137174211248285⋅x₁  + 0.0123456790123457⋅x₂ ⎠"
      ]
     },
     "execution_count": 153,
     "metadata": {},
     "output_type": "execute_result"
    }
   ],
   "source": [
    "Jnew=factor(Jnew)"
   ]
  },
  {
   "cell_type": "code",
   "execution_count": 154,
   "metadata": {},
   "outputs": [
    {
     "data": {
      "text/latex": [
       "\\begin{equation*}1.0 \\alpha x_{1}^{2} + 729.0 \\alpha x_{2}^{2} - 1.0 x_{1}^{2} - 81.0 x_{2}^{2}\\end{equation*}"
      ],
      "text/plain": [
       "        2             2         2          2\n",
       "1.0⋅α⋅x₁  + 729.0⋅α⋅x₂  - 1.0⋅x₁  - 81.0⋅x₂ "
      ]
     },
     "execution_count": 154,
     "metadata": {},
     "output_type": "execute_result"
    }
   ],
   "source": [
    "dJda=(diff(Jnew,alpha))"
   ]
  },
  {
   "cell_type": "markdown",
   "metadata": {},
   "source": [
    "substitute with [5,1]"
   ]
  },
  {
   "cell_type": "code",
   "execution_count": 155,
   "metadata": {},
   "outputs": [
    {
     "data": {
      "text/latex": [
       "\\begin{equation*}754.0 \\alpha - 106.0\\end{equation*}"
      ],
      "text/plain": [
       "754.0⋅α - 106.0"
      ]
     },
     "execution_count": 155,
     "metadata": {},
     "output_type": "execute_result"
    }
   ],
   "source": [
    "dJda(x1=>5, x2=>1)"
   ]
  },
  {
   "cell_type": "code",
   "execution_count": null,
   "metadata": {},
   "outputs": [],
   "source": []
  },
  {
   "cell_type": "code",
   "execution_count": 156,
   "metadata": {},
   "outputs": [
    {
     "data": {
      "text/plain": [
       "0.14058355437665782"
      ]
     },
     "execution_count": 156,
     "metadata": {},
     "output_type": "execute_result"
    }
   ],
   "source": [
    "alpha_star=106/754"
   ]
  },
  {
   "cell_type": "markdown",
   "metadata": {},
   "source": [
    "# On the Newton method "
   ]
  },
  {
   "cell_type": "markdown",
   "metadata": {},
   "source": [
    "For a given starting point x(0) = [x1, x2]⊤, compute the Newton direction at this point. "
   ]
  },
  {
   "cell_type": "code",
   "execution_count": 159,
   "metadata": {},
   "outputs": [
    {
     "data": {
      "text/plain": [
       "gradient2 (generic function with 1 method)"
      ]
     },
     "execution_count": 159,
     "metadata": {},
     "output_type": "execute_result"
    }
   ],
   "source": [
    "function gradient2(J,x1,x2)\n",
    "\n",
    "dJdx1=diff(J,x1)  ;\n",
    "\n",
    "dJdx2=diff(J,x2) ;\n",
    "dJ=[dJdx1; dJdx2]\n",
    "return dJ\n",
    "end"
   ]
  },
  {
   "cell_type": "code",
   "execution_count": 160,
   "metadata": {},
   "outputs": [
    {
     "data": {
      "text/plain": [
       "hessian2 (generic function with 1 method)"
      ]
     },
     "execution_count": 160,
     "metadata": {},
     "output_type": "execute_result"
    }
   ],
   "source": [
    "function hessian2(dJ,x1,x2)\n",
    "    \n",
    "Hdx11=diff(dJ[1],x1);\n",
    "Hdx12=diff(dJ[1],x2);\n",
    "\n",
    "Hdx21=diff(dJ[2],x1);\n",
    "\n",
    "Hdx22=diff(dJ[2],x2);\n",
    "H=[Hdx11 Hdx12; Hdx21 Hdx22]\n",
    "return H\n",
    "end"
   ]
  },
  {
   "cell_type": "code",
   "execution_count": 161,
   "metadata": {},
   "outputs": [
    {
     "data": {
      "text/latex": [
       "\\begin{equation*}0.5 x_{1}^{2} + 4.5 x_{2}^{2}\\end{equation*}"
      ],
      "text/plain": [
       "      2         2\n",
       "0.5⋅x₁  + 4.5⋅x₂ "
      ]
     },
     "execution_count": 161,
     "metadata": {},
     "output_type": "execute_result"
    }
   ],
   "source": [
    "J=0.5*x1^2 + 4.5*x2^2"
   ]
  },
  {
   "cell_type": "code",
   "execution_count": 162,
   "metadata": {},
   "outputs": [
    {
     "data": {
      "text/latex": [
       "\\[ \\left[ \\begin{array}{r}1.0 x_{1}\\\\9.0 x_{2}\\end{array} \\right] \\]"
      ],
      "text/plain": [
       "2-element Array{Sym,1}:\n",
       " 1.0*x1\n",
       " 9.0*x2"
      ]
     },
     "execution_count": 162,
     "metadata": {},
     "output_type": "execute_result"
    }
   ],
   "source": [
    "dJ=gradient2(J,x1,x2)"
   ]
  },
  {
   "cell_type": "code",
   "execution_count": 163,
   "metadata": {},
   "outputs": [
    {
     "data": {
      "text/latex": [
       "\\[\\left[ \\begin{array}{rr}1.0&0\\\\0&9.0\\end{array}\\right]\\]"
      ],
      "text/plain": [
       "2×2 Array{Sym,2}:\n",
       " 1.00000000000000                 0\n",
       "                0  9.00000000000000"
      ]
     },
     "execution_count": 163,
     "metadata": {},
     "output_type": "execute_result"
    }
   ],
   "source": [
    "H=hessian2(dJ,x1,x2)"
   ]
  },
  {
   "cell_type": "markdown",
   "metadata": {},
   "source": [
    "give newton's direction"
   ]
  },
  {
   "cell_type": "code",
   "execution_count": 164,
   "metadata": {},
   "outputs": [
    {
     "data": {
      "text/latex": [
       "\\[ \\left[ \\begin{array}{r}- 1.0 x_{1}\\\\- 1.0 x_{2}\\end{array} \\right] \\]"
      ],
      "text/plain": [
       "2-element Array{Sym,1}:\n",
       " -1.0*x1\n",
       " -1.0*x2"
      ]
     },
     "execution_count": 164,
     "metadata": {},
     "output_type": "execute_result"
    }
   ],
   "source": [
    "d_0=-inv(H)*dJ"
   ]
  },
  {
   "cell_type": "markdown",
   "metadata": {},
   "source": [
    "it seems always negative? right ?  is a descent direction for J at the point x(0) "
   ]
  },
  {
   "cell_type": "code",
   "execution_count": 165,
   "metadata": {},
   "outputs": [
    {
     "data": {
      "text/latex": [
       "\\[ \\left[ \\begin{array}{r}0\\\\0\\end{array} \\right] \\]"
      ],
      "text/plain": [
       "2-element Array{Sym,1}:\n",
       " 0\n",
       " 0"
      ]
     },
     "execution_count": 165,
     "metadata": {},
     "output_type": "execute_result"
    }
   ],
   "source": [
    "xnew=x+d_0"
   ]
  },
  {
   "cell_type": "markdown",
   "metadata": {},
   "source": [
    "Hence, one gets in one iteration the optimal solution independently of the starting point (this is the case for all quadratic minimization problems) "
   ]
  },
  {
   "cell_type": "markdown",
   "metadata": {},
   "source": [
    "# Same question with a new function\n",
    "For a given starting point x(0) = [x1, x2]⊤, compute the Newton direction at this point. "
   ]
  },
  {
   "cell_type": "code",
   "execution_count": 166,
   "metadata": {},
   "outputs": [
    {
     "data": {
      "text/latex": [
       "\\begin{equation*}x_{1}^{4} + 2 x_{2}^{2}\\end{equation*}"
      ],
      "text/plain": [
       "  4       2\n",
       "x₁  + 2⋅x₂ "
      ]
     },
     "execution_count": 166,
     "metadata": {},
     "output_type": "execute_result"
    }
   ],
   "source": [
    "J=x1^4 + 2*x2^2"
   ]
  },
  {
   "cell_type": "code",
   "execution_count": 167,
   "metadata": {},
   "outputs": [
    {
     "data": {
      "text/latex": [
       "\\[ \\left[ \\begin{array}{r}4 x_{1}^{3}\\\\4 x_{2}\\end{array} \\right] \\]"
      ],
      "text/plain": [
       "2-element Array{Sym,1}:\n",
       " 4*x1^3\n",
       "   4*x2"
      ]
     },
     "execution_count": 167,
     "metadata": {},
     "output_type": "execute_result"
    }
   ],
   "source": [
    "dJ=gradient2(J,x1,x2)\n"
   ]
  },
  {
   "cell_type": "code",
   "execution_count": 168,
   "metadata": {},
   "outputs": [
    {
     "data": {
      "text/latex": [
       "\\[\\left[ \\begin{array}{rr}12 x_{1}^{2}&0\\\\0&4\\end{array}\\right]\\]"
      ],
      "text/plain": [
       "2×2 Array{Sym,2}:\n",
       " 12*x1^2  0\n",
       "       0  4"
      ]
     },
     "execution_count": 168,
     "metadata": {},
     "output_type": "execute_result"
    }
   ],
   "source": [
    "H=hessian2(dJ,x1,x2)"
   ]
  },
  {
   "cell_type": "code",
   "execution_count": 169,
   "metadata": {},
   "outputs": [
    {
     "data": {
      "text/latex": [
       "\\[ \\left[ \\begin{array}{r}- \\frac{x_{1}}{3}\\\\- x_{2}\\end{array} \\right] \\]"
      ],
      "text/plain": [
       "2-element Array{Sym,1}:\n",
       " -x1/3\n",
       "   -x2"
      ]
     },
     "execution_count": 169,
     "metadata": {},
     "output_type": "execute_result"
    }
   ],
   "source": [
    "d_0=-inv(H)*dJ"
   ]
  },
  {
   "cell_type": "markdown",
   "metadata": {},
   "source": [
    "it seems always negative? right ?  is a descent direction for J at the point x(0) "
   ]
  },
  {
   "cell_type": "code",
   "execution_count": 170,
   "metadata": {},
   "outputs": [
    {
     "data": {
      "text/latex": [
       "\\[ \\left[ \\begin{array}{r}\\frac{2 x_{1}}{3}\\\\0\\end{array} \\right] \\]"
      ],
      "text/plain": [
       "2-element Array{Sym,1}:\n",
       " 2*x1/3\n",
       "      0"
      ]
     },
     "execution_count": 170,
     "metadata": {},
     "output_type": "execute_result"
    }
   ],
   "source": [
    "xnew=x+d_0"
   ]
  },
  {
   "cell_type": "markdown",
   "metadata": {},
   "source": [
    "One iteration of the Newton method is not enough to converge to the optimal solution. "
   ]
  },
  {
   "cell_type": "code",
   "execution_count": null,
   "metadata": {},
   "outputs": [],
   "source": []
  }
 ],
 "metadata": {
  "kernelspec": {
   "display_name": "Julia 1.3.1",
   "language": "julia",
   "name": "julia-1.3"
  },
  "language_info": {
   "file_extension": ".jl",
   "mimetype": "application/julia",
   "name": "julia",
   "version": "1.3.1"
  }
 },
 "nbformat": 4,
 "nbformat_minor": 4
}
